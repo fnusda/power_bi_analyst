{
  "nbformat": 4,
  "nbformat_minor": 0,
  "metadata": {
    "colab": {
      "provenance": []
    },
    "kernelspec": {
      "name": "python3",
      "display_name": "Python 3"
    },
    "language_info": {
      "name": "python"
    }
  },
  "cells": [
    {
      "cell_type": "markdown",
      "source": [
        "**Manual do Projeto**"
      ],
      "metadata": {
        "id": "r9X09yKWTYJ9"
      }
    },
    {
      "cell_type": "markdown",
      "source": [
        "Considerando que a conexão com MYSQL não ocorreu e não houve tempo para o traceback, gerei a base em uma pasta de trabalho do Excel"
      ],
      "metadata": {
        "id": "Kmjze2ydTvp1"
      }
    },
    {
      "cell_type": "markdown",
      "source": [
        "A pasta de trabalho ficou com 6 planilhas: employee, departament, dept_locations, project, works_on e dependent."
      ],
      "metadata": {
        "id": "90D_Y2BiUC-k"
      }
    },
    {
      "cell_type": "markdown",
      "source": [
        "Os valores foram colados do script disponível no Github no bloco de notas, os valores foram limpos (exclusão de ', (, ) e ;. Cada tabela do mysql gerou um .txt."
      ],
      "metadata": {
        "id": "0DJZLVosUDLU"
      }
    },
    {
      "cell_type": "markdown",
      "source": [
        "No excel cada .txt foi importado para gerar trazer a informação do registro."
      ],
      "metadata": {
        "id": "2iUqieWgbHMW"
      }
    },
    {
      "cell_type": "markdown",
      "source": [
        "employee foi necessário agrupar 'middle name' à coluna Fname (concatenar, depois colar somente valores na coluna 'a'). Depois foram deslocada para a esquerda as colunas que não foram editadas."
      ],
      "metadata": {
        "id": "QR-VBO8GUDSE"
      }
    },
    {
      "cell_type": "markdown",
      "source": [
        "Em employee Super_ssn James E Borg é nulo, pois ele é um gerente."
      ],
      "metadata": {
        "id": "1gBE01RnUDWU"
      }
    },
    {
      "cell_type": "markdown",
      "source": [
        "Foi necessário padronizar todas as datas para um mesmo formato."
      ],
      "metadata": {
        "id": "-eVyBvqeUDbF"
      }
    },
    {
      "cell_type": "markdown",
      "source": [
        "Depois, a pasta do trabalho foi importada no PBI (fnusda-projeto). As coluinas vazias e sem label foram excluidas."
      ],
      "metadata": {
        "id": "GqEWIAt0UCUE"
      }
    }
  ]
}